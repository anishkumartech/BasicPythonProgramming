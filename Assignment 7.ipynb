{
 "cells": [
  {
   "cell_type": "markdown",
   "id": "4bccda19",
   "metadata": {},
   "source": []
  },
  {
   "cell_type": "markdown",
   "id": "b554a9e9",
   "metadata": {},
   "source": [
    "#### 1. What is the name of the feature responsible for generating Regex objects?\n",
    "The name of the feature responsible for generating Regex objects in Python is the \"re\" module."
   ]
  },
  {
   "cell_type": "markdown",
   "id": "da7a5919",
   "metadata": {},
   "source": [
    "#### 2. Why do raw strings often appear in Regex objects?\n",
    "Raw strings are used in Regex objects because regular expressions often contain backslashes, which are also used in Python to escape characters. Using raw strings allows backslashes in regular expressions to be interpreted as literal backslashes, rather than as escape characters for special characters in the regular expression pattern. This makes it easier to write and read regular expressions that contain backslashes."
   ]
  },
  {
   "cell_type": "markdown",
   "id": "c06c253d",
   "metadata": {},
   "source": [
    "#### 3. What is the return value of the search() method?\n",
    "The search() method of a regex object returns a match object if it finds a match, otherwise it returns None. The match object contains information about the match such as the start and end positions of the match, as well as the matching text."
   ]
  },
  {
   "cell_type": "markdown",
   "id": "69c37df1",
   "metadata": {},
   "source": [
    "#### 4. From a Match item, how do you get the actual strings that match the pattern?\n",
    "We can use the group() method on a Match object to get the actual strings that match the pattern. The group() method with no arguments returns the entire matched string, and we can use the optional argument to return a specific capturing group. For example, match.group(1) would return the first capturing group."
   ]
  },
  {
   "cell_type": "markdown",
   "id": "b03935c6",
   "metadata": {},
   "source": [
    "#### 5. In the regex which created from the r'(\\d\\d\\d)-(\\d\\d\\d-\\d\\d\\d\\d)', what does group zero cover? Group 2? Group 1?\n",
    "In the regex created from r'(\\d\\d\\d)-(\\d\\d\\d-\\d\\d\\d\\d)', group 0 covers the entire string matched by the pattern, group 1 covers the first three digits, and group 2 covers the last seven digits.\n",
    "\n",
    "To access these groups from a Match object, you can use the group() method, where group(0) returns the entire match, group(1) returns the match for the first group, and group(2) returns the match for the second group."
   ]
  },
  {
   "cell_type": "markdown",
   "id": "9ec1bf6c",
   "metadata": {},
   "source": [
    "#### 6. In standard expression syntax, parentheses and intervals have distinct meanings. How can you tell a regex that you want it to fit real parentheses and periods?\n",
    "To match real parentheses and periods in a regex, you can use the backslash (\\) character to indicate that the following character should be treated as a literal character instead of a special character. For example, to match a left parenthesis, you would use the regex pattern `\\(`, and to match a period, you would use `\\.`."
   ]
  },
  {
   "cell_type": "markdown",
   "id": "9e5804a6",
   "metadata": {},
   "source": [
    "#### 7. The findall() method returns a string list or a list of string tuples. What causes it to return one of the two options?\n",
    "The findall() method returns a list of string values if the regular expression passed to it doesn't have any groups defined, i.e., no parentheses in the pattern. If the regular expression has groups, findall() returns a list of tuples where each tuple represents a match of the pattern, and the elements of the tuple are the group matches."
   ]
  },
  {
   "cell_type": "markdown",
   "id": "99ebec20",
   "metadata": {},
   "source": [
    "#### 8. In standard expressions, what does the | character mean?\n",
    "In standard expressions, the `|` character is used to indicate alternation, which means \"match either the expression before or after the `|`\". For example, the regular expression `cat|dog` would match either the string \"cat\" or the string \"dog\"."
   ]
  },
  {
   "cell_type": "markdown",
   "id": "e9e9f8af",
   "metadata": {},
   "source": [
    "#### 9. In regular expressions, what does the character stand for?\n",
    "In regular expressions, the dot character (`.`) stands for any single character except a newline character. It is often used as a wildcard character to match any character in a string."
   ]
  },
  {
   "cell_type": "markdown",
   "id": "eca1ca8e",
   "metadata": {},
   "source": [
    "#### 10.In regular expressions, what is the difference between the + and * characters?\n",
    "In regular expressions, `+` and `*` are quantifiers used to match one or more occurrences of the preceding regular expression pattern.\n",
    "\n",
    "The `*` character matches zero or more occurrences of the preceding regular expression pattern. For example, the regular expression `a*` would match an empty string or any number of 'a' characters, such as 'a', 'aa', 'aaa', and so on.\n",
    "\n",
    "The `+` character, on the other hand, matches one or more occurrences of the preceding regular expression pattern. For example, the regular expression `a+` would match one or more 'a' characters, such as 'a', 'aa', 'aaa', and so on, but it would not match an empty string.\n",
    "\n",
    "In short, the main difference between `+` and `*` is that `+` requires at least one occurrence of the preceding pattern, while `*` allows for zero or more occurrences."
   ]
  },
  {
   "cell_type": "markdown",
   "id": "9e41fe98",
   "metadata": {},
   "source": [
    "#### 11. What is the difference between {4} and {4,5} in regular expression?\n",
    "In regular expressions, {4} specifies that the preceding pattern should be matched exactly four times, while {4,5} specifies that the preceding pattern should be matched at least four times and at most five times. In other words, {4} is a fixed quantifier and {4,5} is a range quantifier."
   ]
  },
  {
   "cell_type": "markdown",
   "id": "8c2f9217",
   "metadata": {},
   "source": [
    "#### 12. What do you mean by the \\d, \\w, and \\s shorthand character classes signify in regular expressions?\n",
    "In regular expressions, the following shorthand character classes signify:\n",
    "\n",
    "- \\d: Matches any Unicode decimal digit character. This includes digits from 0-9 and any other digit characters from other scripts.\n",
    "- \\w: Matches any Unicode word character. This includes alphanumeric characters and underscore (_).\n",
    "- \\s: Matches any Unicode whitespace character. This includes spaces, tabs, newlines, and any other space-like characters.\n",
    "\n",
    "These shorthand character classes can be used to make regular expressions more concise and readable. For example, instead of using [0-9] to match digits, you can use \\d. Similarly, instead of using [a-zA-Z0-9_] to match word characters, you can use \\w."
   ]
  },
  {
   "cell_type": "markdown",
   "id": "effdf953",
   "metadata": {},
   "source": [
    "#### 13. What do means by \\D, \\W, and \\S shorthand character classes signify in regular expressions?\n",
    "In regular expressions, the shorthand character classes \\D, \\W, and \\S are the negated versions of \\d, \\w, and \\s, respectively. They match any character that is not a digit (\\D), not a word character (\\W), and not a whitespace character (\\S). For example, \\D will match any non-digit character, such as letters or symbols, and \\W will match any non-word character, such as punctuation or spaces. Similarly, \\S will match any non-whitespace character, such as letters or symbols.\n",
    "\n"
   ]
  },
  {
   "cell_type": "markdown",
   "id": "673bdecb",
   "metadata": {},
   "source": [
    "#### 14. What is the difference between .*? and .*?\n",
    "There is no difference between `.*?` and `.*`, as the question mark `?` here makes the `*` quantifier non-greedy, which means that it will try to match as few characters as possible. \n",
    "\n",
    "The `.*` expression matches any sequence of zero or more characters, while `.*?` matches any sequence of zero or more characters, but tries to find the shortest possible match. \n",
    "\n",
    "For example, consider the string `'abracadabra'`. The regular expression `a.*a` would match the entire string, starting from the first `'a'` and ending with the last `'a'`. On the other hand, the regular expression `a.*?a` would only match the substring `'abracada'`, because it tries to find the shortest match between the first `'a'` and the last `'a'`.\n",
    "\n"
   ]
  },
  {
   "cell_type": "markdown",
   "id": "28e51ec6",
   "metadata": {},
   "source": [
    "#### 15. What is the syntax for matching both numbers and lowercase letters with a character class?\n",
    "The syntax for matching both numbers and lowercase letters with a character class is `[0-9a-z]` or `[\\d[a-z]]`.\n",
    "\n"
   ]
  },
  {
   "cell_type": "markdown",
   "id": "a9c72a6b",
   "metadata": {},
   "source": [
    "#### 16. What is the procedure for making a normal expression in regax case insensitive?\n",
    "To make a regular expression case-insensitive, you can use the `re.IGNORECASE` flag or `re.I` shorthand as the second argument of `re.compile()`, or as the third argument of `re.search()`, `re.findall()`, `re.sub()`, and other similar functions.\n",
    "\n",
    "For example, the following regular expression matches the word \"apple\" case-insensitively:\n",
    " \n"
   ]
  },
  {
   "cell_type": "code",
   "execution_count": 1,
   "id": "d98d2cd1",
   "metadata": {},
   "outputs": [
    {
     "name": "stdout",
     "output_type": "stream",
     "text": [
      "['Apple']\n"
     ]
    }
   ],
   "source": [
    "\n",
    "import re\n",
    "string = \"I have an Apple and an orange.\"\n",
    "pattern = re.compile(r\"apple\", re.IGNORECASE)\n",
    "matches = pattern.findall(string)\n",
    "print(matches)  # Output: ['Apple'] \n"
   ]
  },
  {
   "cell_type": "markdown",
   "id": "edc401c0",
   "metadata": {},
   "source": [
    "\n",
    "In this example, the `re.IGNORECASE` flag is used to compile the regular expression `r\"apple\"` to be case-insensitive. The `findall()` method is then used to find all matches of the regular expression in the string `string`. Since the flag is set, it matches the word \"Apple\" even though it has a capital \"A\"."
   ]
  },
  {
   "cell_type": "markdown",
   "id": "2d8b762a",
   "metadata": {},
   "source": [
    "#### 17. What does the . character normally match? What does it match if re.DOTALL is passed as 2nd argument in re.compile()?\n",
    "In regular expressions, the `.` character normally matches any character except for a newline character. However, if the `re.DOTALL` flag is passed as the second argument in `re.compile()`, then the `.` character matches any character including newline characters. This flag makes the dot match everything.\n",
    "\n"
   ]
  },
  {
   "cell_type": "markdown",
   "id": "6e80e1df",
   "metadata": {},
   "source": [
    "#### 18. If numReg = re.compile(r'\\d+'), what will numRegex.sub('X', '11 drummers, 10 pipers, five rings, 4 hen') return?\n",
    "If `numRegex = re.compile(r'\\d+')`, `numRegex.sub('X', '11 drummers, 10 pipers, five rings, 4 hen')` will return the string `'X drummers, X pipers, five rings, X hen'`.\n",
    "\n",
    "In the above regular expression, `\\d+` matches one or more digits. The `sub()` method replaces all occurrences of the pattern with the string `'X'`. Therefore, all sequences of one or more digits in the input string will be replaced with `'X'`. The output string will have the same content as the input string, except that all digit sequences will be replaced with `'X'`.\n",
    "\n"
   ]
  },
  {
   "cell_type": "markdown",
   "id": "33bfc2d9",
   "metadata": {},
   "source": [
    "#### 19. What does passing re.VERBOSE as the 2nd argument to re.compile() allow to do?\n",
    "Passing `re.VERBOSE` as the 2nd argument to `re.compile()` allows you to add comments and whitespace to your regular expression pattern without affecting the functionality of the pattern. This can make the pattern more readable and easier to understand. When `re.VERBOSE` is used, whitespace within the pattern is ignored unless it is escaped or included within a character class. Comments can also be included within the pattern by using the `#` character.\n",
    "\n"
   ]
  },
  {
   "cell_type": "markdown",
   "id": "96939c90",
   "metadata": {},
   "source": [
    "#### 20. How would you write a regex that match a number with comma for every three digits? It must match the given following:\n",
    "#### '42'\n",
    "#### '1,234'\n",
    "#### '6,368,745'\n",
    "#### but not the following:\n",
    "#### '12,34,567' (which has only two digits between the commas)\n",
    "#### '1234' (which lacks commas)\n",
    "\n",
    "To match a number with commas for every three digits, we can use the following regex:\n"
   ]
  },
  {
   "cell_type": "code",
   "execution_count": 2,
   "id": "b3c1df9d",
   "metadata": {},
   "outputs": [],
   "source": [
    " \n",
    "import re\n",
    "regex = re.compile(r'^\\d{1,3}(,\\d{3})*$')\n",
    " \n"
   ]
  },
  {
   "cell_type": "markdown",
   "id": "42f73b3a",
   "metadata": {},
   "source": [
    "\n",
    "Here, the `^` and `$` match the start and end of the string, respectively. The pattern `\\d{1,3}` matches one to three digits, and `(,\\d{3})*` matches zero or more occurrences of a comma followed by exactly three digits. The `*` at the end allows for any number of repetitions of the pattern.\n",
    "\n",
    "Using this regex, we can check if a string matches the pattern using the `match()` method:\n"
   ]
  },
  {
   "cell_type": "code",
   "execution_count": 3,
   "id": "632e9cc5",
   "metadata": {},
   "outputs": [
    {
     "name": "stdout",
     "output_type": "stream",
     "text": [
      "Match found\n"
     ]
    }
   ],
   "source": [
    " \n",
    "result = regex.match('6,368,745')\n",
    "if result:\n",
    "    print('Match found')\n",
    "else:\n",
    "    print('Match not found') \n",
    "\n",
    "# This will print \"Match found\" for the given input string."
   ]
  },
  {
   "cell_type": "markdown",
   "id": "2c934c1f",
   "metadata": {},
   "source": [
    "\n",
    "#### 21. How would you write a regex that matches the full name of someone whose last name is Watanabe? You can assume that the first name that comes before it will always be one word that begins with a capital letter. The regex must match the following:\n",
    "#### 'Haruto Watanabe'\n",
    "#### 'Alice Watanabe'\n",
    "#### 'RoboCop Watanabe'\n",
    "#### but not the following:\n",
    "#### 'haruto Watanabe' (where the first name is not capitalized)\n",
    "#### 'Mr. Watanabe' (where the preceding word has a nonletter character)\n",
    "#### 'Watanabe' (which has no first name)\n",
    "#### 'Haruto watanabe' (where Watanabe is not capitalized)\n",
    "\n",
    "\n",
    "To match the full name of someone whose last name is Watanabe, with the first name that comes before it always being one word that begins with a capital letter, the following regex can be used:\n",
    "\n",
    "```\n",
    "[A-Z][a-zA-Z]*\\sWatanabe\n",
    "```\n",
    "\n",
    "Explanation:\n",
    "\n",
    "- `[A-Z]` matches the first character of the first name, which must be a capital letter.\n",
    "- `[a-zA-Z]*` matches the rest of the first name, which can be any combination of uppercase and lowercase letters.\n",
    "- `\\s` matches the space between the first and last names.\n",
    "- `Watanabe` matches the last name.\n",
    "\n",
    "This regex will match 'Haruto Watanabe', 'Alice Watanabe', and 'RoboCop Watanabe', but not 'haruto Watanabe', 'Mr. Watanabe', 'Watanabe', or 'Haruto watanabe'.\n",
    "\n"
   ]
  },
  {
   "cell_type": "markdown",
   "id": "f1d51477",
   "metadata": {},
   "source": [
    "\n",
    "#### 22. How would you write a regex that matches a sentence where the first word is either Alice, Bob, or Carol; the second word is either eats, pets, or throws; the third word is apples, cats, or baseballs; and the sentence ends with a period? This regex should be case-insensitive. It must match the following:\n",
    "#### 'Alice eats apples.'\n",
    "#### 'Bob pets cats.'\n",
    "#### 'Carol throws baseballs.'\n",
    "#### 'Alice throws Apples.'\n",
    "#### 'BOB EATS CATS.'\n",
    "#### but not the following:\n",
    "#### 'RoboCop eats apples.'\n",
    "#### 'ALICE THROWS FOOTBALLS.'\n",
    "#### 'Carol eats 7 cats.'"
   ]
  },
  {
   "cell_type": "markdown",
   "id": "bad2cd3b",
   "metadata": {},
   "source": [
    "Here's a regex that matches the given criteria:\n",
    "\n",
    "```\n",
    "^(Alice|Bob|Carol)\\s+(eats|pets|throws)\\s+(apples|cats|baseballs)\\.$\n",
    "```\n",
    "\n",
    "Explanation:\n",
    "- `^` matches the start of the sentence\n",
    "- `(Alice|Bob|Carol)` matches either Alice, Bob or Carol\n",
    "- `\\s+` matches one or more whitespace characters\n",
    "- `(eats|pets|throws)` matches either eats, pets or throws\n",
    "- `\\s+` matches one or more whitespace characters\n",
    "- `(apples|cats|baseballs)` matches either apples, cats or baseballs\n",
    "- `\\.` matches a period at the end of the sentence\n",
    "- `$` matches the end of the sentence\n",
    "\n",
    "Note that the `re.IGNORECASE` flag should be passed to `re.compile()` when compiling the regex in order to make it case-insensitive."
   ]
  },
  {
   "cell_type": "code",
   "execution_count": null,
   "id": "d883671e",
   "metadata": {},
   "outputs": [],
   "source": []
  }
 ],
 "metadata": {
  "kernelspec": {
   "display_name": "Python 3 (ipykernel)",
   "language": "python",
   "name": "python3"
  },
  "language_info": {
   "codemirror_mode": {
    "name": "ipython",
    "version": 3
   },
   "file_extension": ".py",
   "mimetype": "text/x-python",
   "name": "python",
   "nbconvert_exporter": "python",
   "pygments_lexer": "ipython3",
   "version": "3.10.9"
  }
 },
 "nbformat": 4,
 "nbformat_minor": 5
}
