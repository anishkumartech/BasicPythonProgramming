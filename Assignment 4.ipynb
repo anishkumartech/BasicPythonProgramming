{
 "cells": [
  {
   "cell_type": "markdown",
   "id": "f6c525ea",
   "metadata": {},
   "source": [
    "#### 1. What exactly is []?\n",
    "\n",
    "In Python, `[]` represents an empty list. It is a built-in data type used to represent a collection of elements, where each element can be of a different data type. A list is mutable, meaning that its elements can be modified. An empty list can be created by simply typing `[]` or by using the `list()` constructor with no arguments.\n",
    "\n"
   ]
  },
  {
   "cell_type": "markdown",
   "id": "b38d76f3",
   "metadata": {},
   "source": [
    "\n",
    "#### 2. In a list of values stored in a variable called spam, how would you assign the value 'hello' as the third value? (Assume [2, 4, 6, 8, 10] are in spam.)\n",
    "\n",
    "You can assign the value 'hello' as the third value of the list by accessing it through its index and using the assignment operator = to assign the new value. Here's how to do it:\n",
    "\n"
   ]
  },
  {
   "cell_type": "code",
   "execution_count": 3,
   "id": "a0b740d9",
   "metadata": {},
   "outputs": [
    {
     "name": "stdout",
     "output_type": "stream",
     "text": [
      "[2, 4, 'hello', 8, 10]\n"
     ]
    }
   ],
   "source": [
    "spam = [2, 4, 6, 8, 10]  # original list\n",
    "spam[2] = 'hello'  # assign 'hello' as the third value\n",
    "print(spam)  # [2, 4, 'hello', 8, 10]\n"
   ]
  },
  {
   "cell_type": "markdown",
   "id": "61157c3a",
   "metadata": {},
   "source": [
    "In Python, the indices of a list start from 0, so the third value has an index of 2. The assignment statement spam[2] = 'hello' replaces the value at the index 2 with the string 'hello'."
   ]
  },
  {
   "cell_type": "markdown",
   "id": "f64d9013",
   "metadata": {},
   "source": [
    "### Let's pretend the spam includes the list ['a', 'b', 'c', 'd'] for the next three queries.\n",
    "\n",
    "#### 3. What is the value of spam[int(int('3' * 2) / 11)]?\n",
    "\n",
    "\n",
    "The expression '3' * 2 evaluates to the string '33'. Then int('33') will evaluate to the integer 33, and int('33')/11 evaluates to 3.0. Finally, spam[int(3.0)] is equivalent to spam[3], which is the fourth element of the list: 'd'. Therefore, the value of spam[int(int('3' * 2) / 11)] is 'd'.\n"
   ]
  },
  {
   "cell_type": "markdown",
   "id": "87f5daca",
   "metadata": {},
   "source": [
    "\n",
    "#### 4. What is the value of spam[-1]?\n",
    "\n",
    "If spam is ['a', 'b', 'c', 'd'], spam[-1] would return 'd', which is the last item in the list.\n"
   ]
  },
  {
   "cell_type": "markdown",
   "id": "56dda6a8",
   "metadata": {},
   "source": [
    "\n",
    "#### 5. What is the value of spam[:2]?\n",
    "\n",
    "If `spam` is `['a', 'b', 'c', 'd']`, then `spam[:2]` would be `['a', 'b']`. This is known as list slicing in Python, where the syntax `[start:end]` is used to extract a portion of the list. Here, `start` is the index of the first element to include in the slice, and `end` is the index of the first element to exclude from the slice. In this case, `start` is `0` (which is the default if no value is provided) and `end` is `2`.\n",
    "\n"
   ]
  },
  {
   "cell_type": "markdown",
   "id": "8dbdbb61",
   "metadata": {},
   "source": [
    "\n",
    "### Let's pretend bacon has the list [3.14, 'cat,' 11, 'cat,' True] for the next three questions.\n",
    "\n",
    "#### 6. What is the value of bacon.index('cat')?\n",
    "\n",
    "The value of bacon.index('cat') is 1, because the first occurrence of the string 'cat' is at index 1 in the list.\n",
    "\n"
   ]
  },
  {
   "cell_type": "markdown",
   "id": "a1993046",
   "metadata": {},
   "source": [
    "\n",
    "#### 7. How does bacon.append(99) change the look of the list value in bacon?\n",
    "\n",
    "The method append() adds the argument passed to it as a single element to the end of the list. Therefore, the call bacon.append(99) will add the value 99 to the end of the list bacon. So the updated list will look like [3.14, 'cat', 11, 'cat', True, 99].\n",
    "\n"
   ]
  },
  {
   "cell_type": "markdown",
   "id": "8f45cc47",
   "metadata": {},
   "source": [
    "\n",
    "#### 8. How does bacon.remove('cat') change the look of the list in bacon?\n",
    "\n",
    "The `bacon.remove('cat')` method removes the first occurrence of the string 'cat' from the list `bacon`. If there are multiple occurrences of 'cat' in the list, only the first one will be removed. If 'cat' is not in the list, a `ValueError` will be raised.\n",
    "\n",
    "For example, if `bacon` is initially `[3.14, 'cat', 11, 'cat', True]`, then calling `bacon.remove('cat')` will result in the list `bacon` being modified to `[3.14, 11, 'cat', True]`.\n",
    "\n"
   ]
  },
  {
   "cell_type": "markdown",
   "id": "d6905a1b",
   "metadata": {},
   "source": [
    "\n",
    "#### 9. What are the list concatenation and list replication operators?\n",
    "\n",
    "The list concatenation operator is the plus sign (+), which allows you to join two or more lists together into a single list. The list replication operator is the asterisk (*), which allows you to create a new list by repeating an existing list a certain number of times.\n",
    "\n"
   ]
  },
  {
   "cell_type": "markdown",
   "id": "3fd2813a",
   "metadata": {},
   "source": [
    "\n",
    "#### 10. What is difference between the list methods append() and insert()?\n",
    "\n",
    "The append() method is used to add an element at the end of the list, whereas the insert() method is used to insert an element at a specific index in the list.\n",
    "\n",
    "The syntax for append() method is:\n",
    "\n",
    "list.append(element)\n",
    "where element is the item to be added at the end of the list.\n",
    "\n",
    "The syntax for insert() method is:\n",
    "\n",
    "list.insert(index, element)\n",
    "where index is the position where the element should be inserted and element is the item to be inserted.\n",
    "\n",
    "For example, consider the following list:\n"
   ]
  },
  {
   "cell_type": "code",
   "execution_count": 9,
   "id": "30d84b47",
   "metadata": {},
   "outputs": [],
   "source": [
    "my_list = [1, 2, 3]\n"
   ]
  },
  {
   "cell_type": "code",
   "execution_count": 10,
   "id": "1cfe6b6f",
   "metadata": {},
   "outputs": [
    {
     "data": {
      "text/plain": [
       "[1, 2, 3, 4]"
      ]
     },
     "execution_count": 10,
     "metadata": {},
     "output_type": "execute_result"
    }
   ],
   "source": [
    "# If we use append() method to add the element 4, it will be added at the end of the list as follows:\n",
    "\n",
    "my_list.append(4)\n",
    "my_list"
   ]
  },
  {
   "cell_type": "code",
   "execution_count": 11,
   "id": "08b93908",
   "metadata": {},
   "outputs": [
    {
     "data": {
      "text/plain": [
       "[0, 1, 2, 3, 4]"
      ]
     },
     "execution_count": 11,
     "metadata": {},
     "output_type": "execute_result"
    }
   ],
   "source": [
    "\n",
    "# If we use insert() method to insert the element 0 at index 0, it will be added at the beginning of the list as follows:\n",
    " \n",
    "my_list.insert(0, 0)\n",
    "my_list"
   ]
  },
  {
   "cell_type": "markdown",
   "id": "dbb4cd1b",
   "metadata": {},
   "source": [
    "\n",
    "#### 11. What are the two methods for removing items from a list?\n",
    "\n",
    "The two methods for removing items from a list are:\n",
    "\n",
    "remove() method: This method removes the first occurrence of the specified element from the list. The syntax for this method is list_name.remove(element).\n",
    "\n",
    "pop() method: This method removes the item at the specified index (or the last item if index is not specified) and returns it. The syntax for this method is list_name.pop(index).\n",
    "\n"
   ]
  },
  {
   "cell_type": "markdown",
   "id": "e96fbaf7",
   "metadata": {},
   "source": [
    "\n",
    "#### 12. Describe how list values and string values are identical.\n",
    "\n",
    "Both list values and string values are sequences of items. They can be accessed using an index, and slices of the sequence can be obtained by using the slicing operator. They are also iterable, which means that we can loop over each item in the sequence using a for loop. Additionally, both list values and string values can be concatenated using the + operator and replicated using the * operator.\n",
    "\n"
   ]
  },
  {
   "cell_type": "markdown",
   "id": "37954df9",
   "metadata": {},
   "source": [
    "\n",
    "#### 13. What's the difference between tuples and lists?\n",
    "\n",
    "There are several differences between tuples and lists:\n",
    "\n",
    "Mutability: Lists are mutable, which means that you can add, remove, or modify elements in a list after it has been created. Tuples, on the other hand, are immutable, which means that you cannot modify the elements of a tuple after it has been created.\n",
    "\n",
    "Syntax: Lists are enclosed in square brackets ([]), while tuples are enclosed in parentheses (()).\n",
    "\n",
    "Performance: Since tuples are immutable, they are more memory-efficient and faster to access than lists. Lists, on the other hand, have more functionality and are generally more flexible.\n",
    "\n",
    "Usage: Lists are commonly used for collections of homogeneous items (i.e., items of the same type), while tuples are commonly used for collections of heterogeneous items (i.e., items of different types) that represent a single entity or record.\n"
   ]
  },
  {
   "cell_type": "code",
   "execution_count": 16,
   "id": "33138919",
   "metadata": {},
   "outputs": [
    {
     "data": {
      "text/plain": [
       "('apple', 'banana', 'orange')"
      ]
     },
     "execution_count": 16,
     "metadata": {},
     "output_type": "execute_result"
    }
   ],
   "source": [
    "# Here is an example of a tuple and a list:\n",
    "# Example of a tuple\n",
    "t = ('apple', 'banana', 'orange')\n",
    "t\n"
   ]
  },
  {
   "cell_type": "code",
   "execution_count": 17,
   "id": "6a0600da",
   "metadata": {},
   "outputs": [
    {
     "data": {
      "text/plain": [
       "['apple', 'banana', 'orange']"
      ]
     },
     "execution_count": 17,
     "metadata": {},
     "output_type": "execute_result"
    }
   ],
   "source": [
    "# Example of a list\n",
    "l = ['apple', 'banana', 'orange']\n",
    "l"
   ]
  },
  {
   "cell_type": "markdown",
   "id": "496114c5",
   "metadata": {},
   "source": [
    "#### 14. How do you type a tuple value that only contains the integer 42?\n",
    "\n",
    "To create a tuple that only contains the integer 42, you can use the following syntax:\n"
   ]
  },
  {
   "cell_type": "code",
   "execution_count": 19,
   "id": "cd60cdac",
   "metadata": {},
   "outputs": [
    {
     "data": {
      "text/plain": [
       "(42,)"
      ]
     },
     "execution_count": 19,
     "metadata": {},
     "output_type": "execute_result"
    }
   ],
   "source": [
    "\n",
    "my_tuple = (42,)\n",
    "# Note that the comma after the integer is necessary to create a tuple. If you omit the comma, Python will interpret it as an integer and not a tuple.\n",
    "\n",
    "my_tuple"
   ]
  },
  {
   "cell_type": "markdown",
   "id": "ddb09723",
   "metadata": {},
   "source": [
    "\n",
    "#### 15. How do you get a list value's tuple form? How do you get a tuple value's list form?\n",
    "\n",
    "To get a list value's tuple form, we can use the `tuple()` function and pass the list as an argument. For example:\n"
   ]
  },
  {
   "cell_type": "code",
   "execution_count": 20,
   "id": "69100b36",
   "metadata": {},
   "outputs": [
    {
     "name": "stdout",
     "output_type": "stream",
     "text": [
      "(1, 2, 3)\n",
      "[1, 2, 3]\n"
     ]
    }
   ],
   "source": [
    "\n",
    "\n",
    "my_list = [1, 2, 3]\n",
    "my_tuple = tuple(my_list)\n",
    "print(my_tuple)  # (1, 2, 3)\n",
    " \n",
    "\n",
    "# To get a tuple value's list form, we can use the `list()` function and pass the tuple as an argument. For example:\n",
    "\n",
    " \n",
    "my_tuple = (1, 2, 3)\n",
    "my_list = list(my_tuple)\n",
    "print(my_list)  # [1, 2, 3]\n",
    " \n"
   ]
  },
  {
   "cell_type": "markdown",
   "id": "3e9175ab",
   "metadata": {},
   "source": [
    "\n",
    "#### 16. Variables that \"contain\" list values are not necessarily lists themselves. Instead, what do they contain?\n",
    "Variables that \"contain\" list values are actually references to the list object stored in memory. When we assign a list to a variable, the variable contains a reference to the location in memory where the list is stored, rather than actually containing the list values themselves.\n"
   ]
  },
  {
   "cell_type": "markdown",
   "id": "1d3b757e",
   "metadata": {},
   "source": [
    "\n",
    "#### 17. How do you distinguish between copy.copy() and copy.deepcopy()?\n",
    "\n",
    "`copy.copy()` and `copy.deepcopy()` are used to create copies of mutable objects like lists or dictionaries. The difference between the two methods lies in how they handle nested objects (objects that are contained within the main object being copied).\n",
    "\n",
    "`copy.copy()` creates a shallow copy of the object, meaning that it only creates copies of the top-level object and any immediate references it has. However, any nested objects within the top-level object are not copied, and are still referenced by both the original object and the shallow copy. \n",
    "\n",
    "For example:\n",
    "\n",
    " "
   ]
  },
  {
   "cell_type": "code",
   "execution_count": 21,
   "id": "aac2cdb6",
   "metadata": {},
   "outputs": [
    {
     "name": "stdout",
     "output_type": "stream",
     "text": [
      "[1, 2, [5, 4]]\n",
      "[1, 2, [5, 4]]\n"
     ]
    }
   ],
   "source": [
    "\n",
    "import copy\n",
    "\n",
    "original = [1, 2, [3, 4]]\n",
    "shallow_copy = copy.copy(original)\n",
    "\n",
    "original[2][0] = 5\n",
    "\n",
    "print(original)      # [1, 2, [5, 4]]\n",
    "print(shallow_copy)   # [1, 2, [5, 4]]\n",
    " \n",
    "\n",
    "# In this example, changing the value of `original[2][0]` also changes the value in `shallow_copy[2][0]`, because both are still referencing the same nested list `[3, 4]`.\n",
    "\n"
   ]
  },
  {
   "cell_type": "code",
   "execution_count": 22,
   "id": "b0ee649e",
   "metadata": {},
   "outputs": [
    {
     "name": "stdout",
     "output_type": "stream",
     "text": [
      "[1, 2, [5, 4]]\n",
      "[1, 2, [3, 4]]\n"
     ]
    }
   ],
   "source": [
    "# On the other hand, `copy.deepcopy()` creates a deep copy of the object, meaning that it creates copies of the top-level object and any nested objects as well. This ensures that the original object and the deep copy are completely independent and changes made to one do not affect the other.\n",
    "\n",
    "# For example:\n",
    "\n",
    "\n",
    "import copy\n",
    "\n",
    "original = [1, 2, [3, 4]]\n",
    "deep_copy = copy.deepcopy(original)\n",
    "\n",
    "original[2][0] = 5\n",
    "\n",
    "print(original)      # [1, 2, [5, 4]]\n",
    "print(deep_copy)      # [1, 2, [3, 4]]\n",
    " \n",
    "\n",
    "# In this example, changing the value of `original[2][0]` does not affect the value in `deep_copy[2][0]`, because `deep_copy` contains a separate copy of the nested list `[3, 4]`."
   ]
  },
  {
   "cell_type": "code",
   "execution_count": null,
   "id": "750c3147",
   "metadata": {},
   "outputs": [],
   "source": []
  }
 ],
 "metadata": {
  "kernelspec": {
   "display_name": "Python 3 (ipykernel)",
   "language": "python",
   "name": "python3"
  },
  "language_info": {
   "codemirror_mode": {
    "name": "ipython",
    "version": 3
   },
   "file_extension": ".py",
   "mimetype": "text/x-python",
   "name": "python",
   "nbconvert_exporter": "python",
   "pygments_lexer": "ipython3",
   "version": "3.10.9"
  }
 },
 "nbformat": 4,
 "nbformat_minor": 5
}
