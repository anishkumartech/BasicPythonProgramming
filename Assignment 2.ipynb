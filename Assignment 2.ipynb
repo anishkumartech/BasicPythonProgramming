{
 "cells": [
  {
   "cell_type": "markdown",
   "id": "7d320bd8",
   "metadata": {},
   "source": [
    "##### 1.What are the two values of the Boolean data type? How do you write them?\n",
    "\n",
    " The Boolean data type in Python represents logical values, and there are two possible values: True and False.\n",
    "\n",
    "In Python, the True value is represented as the keyword True (without quotes and with an uppercase \"T\"), and the False value is represented as the keyword False (also without quotes and with an uppercase \"F\").\n",
    "\n",
    "Boolean values are used to represent the truth or falsity of a condition in logical expressions and control statements in programming. For example, the expression 5 > 3 will evaluate to True because it is true that 5 is greater than 3, while the expression 5 < 3 will evaluate to False because it is false that 5 is less than 3.\n"
   ]
  },
  {
   "cell_type": "markdown",
   "id": "78001864",
   "metadata": {},
   "source": [
    "\n",
    "###### 2. What are the three different types of Boolean operators?\n",
    "\n",
    "The three different types of Boolean operators are:\n",
    "\n",
    "and: The and operator returns True if both operands are true, and False otherwise. For example, True and False evaluates to False, while True and True evaluates to True.\n",
    "\n",
    "or: The or operator returns True if at least one of the operands is true, and False otherwise. For example, True or False evaluates to True, while False or False evaluates to False.\n",
    "\n",
    "not: The not operator returns the opposite of the operand. If the operand is True, not returns False, and if the operand is False, not returns True. For example, not True evaluates to False, while not False evaluates to True.\n",
    "\n",
    "These operators are commonly used in logical expressions to evaluate conditions in control statements like if, while, and for loops.\n"
   ]
  },
  {
   "cell_type": "markdown",
   "id": "1d10b238",
   "metadata": {},
   "source": [
    "\n",
    "###### 3. Make a list of each Boolean operator's truth tables (i.e. every possible combination of Boolean values for the operator and what it evaluate ).\n",
    "\n",
    "Here are the truth tables for the three Boolean operators:\n",
    "\n",
    "AND operator:\n",
    "Operand 1\tOperand 2\tResult\n",
    "    False\tFalse   \tFalse\n",
    "    False\tTrue    \tFalse\n",
    "    True\tFalse   \tFalse\n",
    "    True\tTrue    \tTrue\n",
    "\n",
    "OR operator:\n",
    "Operand 1\tOperand 2\tResult\n",
    "    False\tFalse   \tFalse\n",
    "    False\tTrue\t    True\n",
    "    True\tFalse   \tTrue\n",
    "    True\tTrue    \tTrue\n",
    "\n",
    "NOT operator:\n",
    "  Operand \tResult\n",
    "    False\tTrue\n",
    "    True\tFalse\n",
    "    \n",
    "These truth tables show every possible combination of Boolean values for each operator and the resulting evaluation of that combination."
   ]
  },
  {
   "cell_type": "markdown",
   "id": "68eeb489",
   "metadata": {},
   "source": [
    "#### 4. What are the values of the following expressions?\n",
    "(5 > 4) and (3 == 5)      :- False\n",
    "not (5 > 4)               :- False                  \n",
    "(5 > 4) or (3 == 5)       :- True\n",
    "not ((5 > 4) or (3 == 5)) :- False\n",
    "(True and True) and (True == False)  :- False\n",
    "(not False) or (not True)   :- True\n",
    "\n"
   ]
  },
  {
   "cell_type": "markdown",
   "id": "b45995ca",
   "metadata": {},
   "source": [
    "##### 5. What are the six comparison operators?\n",
    "\n",
    "    > greater than\n",
    "\n",
    "    < less than\n",
    "\n",
    "    >= greater than or equal to\n",
    "\n",
    "    <= less than or equal to\n",
    "\n",
    "    == equal to\n",
    "\n",
    "    != not equal to\n",
    "\n",
    "These operators are used to compare two values and return a Boolean value (True or False) based on whether the comparison is true or false."
   ]
  },
  {
   "cell_type": "markdown",
   "id": "87218e03",
   "metadata": {},
   "source": [
    "#####  6. How do you tell the difference between the equal to and assignment operators?Describe a condition and when you would use one.\n",
    "\n",
    "The equal to operator (==) is used to compare two values and return True if they are equal, while the assignment operator (=) is used to assign a value to a variable.\n",
    "\n",
    "x = 5  # the value 5 is assigned to the variable x\n",
    "if x == 5:  # the value of x is compared to 5 using the equal to operator\n",
    "    print(\"x is equal to 5\")\n",
    "    \n",
    "In above example, the value 5 is assigned to the variable x using the assignment operator (=). Then, the value of x is compared to 5 using the equal to operator (==) in an if statement. If the comparison is true, the program prints \"x is equal to 5\".\n",
    "\n",
    "The equal to operator is used when we need to check whether two values are equal, while the assignment operator is used when we need to assign a value to a variable."
   ]
  },
  {
   "cell_type": "markdown",
   "id": "ff19a1e1",
   "metadata": {},
   "source": [
    "#####  7. Identify the three blocks in this code:\n",
    "spam = 0\n",
    "if spam == 10:\n",
    "    print('eggs')\n",
    "if spam > 5:\n",
    "    print('bacon')\n",
    "else:\n",
    "    print('ham')\n",
    "    print('spam')\n",
    "    print('spam')\n",
    "\n",
    "\n",
    "\n",
    "Block 1:\n",
    " \n",
    "spam = 0\n",
    "if spam == 10:\n",
    "    print('eggs')\n",
    "\n",
    "Block 2:\n",
    " \n",
    "if spam > 5:\n",
    "    print('bacon')\n",
    "    \n",
    "Block 3:\n",
    " \n",
    "else:\n",
    "    print('ham')\n",
    "    print('spam')\n",
    "    print('spam')"
   ]
  },
  {
   "cell_type": "markdown",
   "id": "4de8c477",
   "metadata": {},
   "source": [
    "#####  8. Write code that prints Hello if 1 is stored in spam, prints Howdy if 2 is stored in spam, and prints Greetings! if anything else is stored in spam.\n",
    "\n",
    "\n"
   ]
  },
  {
   "cell_type": "code",
   "execution_count": 3,
   "id": "a4107fdf",
   "metadata": {},
   "outputs": [
    {
     "name": "stdout",
     "output_type": "stream",
     "text": [
      "5\n",
      "Greetings!\n"
     ]
    }
   ],
   "source": [
    "spam = int(input())\n",
    "\n",
    "if spam == 1:\n",
    "    print(\"Hello\")\n",
    "elif spam == 2:\n",
    "    print(\"Howdy\")\n",
    "else:\n",
    "    print(\"Greetings!\")"
   ]
  },
  {
   "cell_type": "markdown",
   "id": "57f97012",
   "metadata": {},
   "source": [
    "#####  9.If your programme is stuck in an endless loop, what keys you’ll press?\n",
    "\n",
    "The specific key combination depends on the programming environment or terminal being used, but commonly the keys Ctrl + C"
   ]
  },
  {
   "cell_type": "markdown",
   "id": "83c69ff8",
   "metadata": {},
   "source": [
    "\n",
    "#####  10. How can you tell the difference between break and continue?\n",
    "\n",
    "\n",
    "The break keyword is used to exit a loop immediately. When break is executed in a loop, the loop is terminated, and the program continues executing from the next line after the loop.\n",
    "\n",
    "The continue keyword, on the other hand, is used to skip the current iteration of a loop and continue with the next iteration. When continue is executed in a loop, the current iteration is terminated, and the loop moves on to the next iteration.\n"
   ]
  },
  {
   "cell_type": "code",
   "execution_count": 4,
   "id": "740237d7",
   "metadata": {},
   "outputs": [
    {
     "name": "stdout",
     "output_type": "stream",
     "text": [
      "0\n",
      "1\n",
      "2\n",
      "3\n",
      "4\n"
     ]
    }
   ],
   "source": [
    "for i in range(10):\n",
    "    if i == 5:\n",
    "        break\n",
    "    print(i)"
   ]
  },
  {
   "cell_type": "code",
   "execution_count": 5,
   "id": "1f7502b9",
   "metadata": {},
   "outputs": [
    {
     "name": "stdout",
     "output_type": "stream",
     "text": [
      "0\n",
      "1\n",
      "2\n",
      "3\n",
      "4\n",
      "6\n",
      "7\n",
      "8\n",
      "9\n"
     ]
    }
   ],
   "source": [
    "for i in range(10):\n",
    "    if i == 5:\n",
    "        continue\n",
    "    print(i)"
   ]
  },
  {
   "cell_type": "markdown",
   "id": "c15e5d25",
   "metadata": {},
   "source": [
    "\n",
    "#####  11. In a for loop, what is the difference between range(10), range(0, 10), and range(0, 10, 1)?\n",
    "\n",
    "range(10) generates a sequence of integers from 0 to 9 by default. It is equivalent to range(0, 10, 1).\n",
    "\n",
    "range(0, 10) generates a sequence of integers from 0 to 9. The first argument (0) is the starting value, and the second argument (10) is the ending value (not inclusive). The step size is 1 by default, so it generates numbers in increments of 1.\n",
    "\n",
    "range(0, 10, 1) is the same as range(0, 10). The third argument (1) is the step size, which specifies the increment between numbers in the sequence. Since the step size is 1 by default, it can be omitted."
   ]
  },
  {
   "cell_type": "markdown",
   "id": "02bb3d45",
   "metadata": {},
   "source": [
    "\n",
    "#####  12. Write a short program that prints the numbers 1 to 10 using a for loop. Then write an equivalent program that prints the numbers 1 to 10 using a while loop.\n",
    "\n"
   ]
  },
  {
   "cell_type": "code",
   "execution_count": 6,
   "id": "4236dcf2",
   "metadata": {},
   "outputs": [
    {
     "name": "stdout",
     "output_type": "stream",
     "text": [
      "1\n",
      "2\n",
      "3\n",
      "4\n",
      "5\n",
      "6\n",
      "7\n",
      "8\n",
      "9\n",
      "10\n"
     ]
    }
   ],
   "source": [
    "for i in range(1, 11):\n",
    "    print(i)"
   ]
  },
  {
   "cell_type": "code",
   "execution_count": 7,
   "id": "89afa7bc",
   "metadata": {},
   "outputs": [
    {
     "name": "stdout",
     "output_type": "stream",
     "text": [
      "1\n",
      "2\n",
      "3\n",
      "4\n",
      "5\n",
      "6\n",
      "7\n",
      "8\n",
      "9\n",
      "10\n"
     ]
    }
   ],
   "source": [
    "i = 1\n",
    "while i <= 10:\n",
    "    print(i)\n",
    "    i += 1\n"
   ]
  },
  {
   "cell_type": "markdown",
   "id": "1c12bf88",
   "metadata": {},
   "source": [
    "\n",
    "#####  13. If you had a function named bacon() inside a module named spam, how would you call it after importing spam?"
   ]
  },
  {
   "cell_type": "code",
   "execution_count": null,
   "id": "847aca51",
   "metadata": {},
   "outputs": [],
   "source": [
    "import spam\n",
    "\n",
    "spam.bacon()"
   ]
  },
  {
   "cell_type": "markdown",
   "id": "a4abf892",
   "metadata": {},
   "source": [
    "This will call the bacon() function defined in the spam module.\n",
    "If the bacon() function requires any arguments, we can pass them in\n",
    "as parameters inside the parentheses."
   ]
  },
  {
   "cell_type": "code",
   "execution_count": null,
   "id": "f83d8ce2",
   "metadata": {},
   "outputs": [],
   "source": []
  }
 ],
 "metadata": {
  "kernelspec": {
   "display_name": "Python 3 (ipykernel)",
   "language": "python",
   "name": "python3"
  },
  "language_info": {
   "codemirror_mode": {
    "name": "ipython",
    "version": 3
   },
   "file_extension": ".py",
   "mimetype": "text/x-python",
   "name": "python",
   "nbconvert_exporter": "python",
   "pygments_lexer": "ipython3",
   "version": "3.10.9"
  }
 },
 "nbformat": 4,
 "nbformat_minor": 5
}
