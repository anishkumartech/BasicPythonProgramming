{
 "cells": [
  {
   "cell_type": "markdown",
   "id": "88d84c67",
   "metadata": {},
   "source": [
    "##### 1. Why are functions advantageous to have in your programs?\n",
    "\n",
    "Functions are advantageous to have in programs for several reasons:\n",
    "\n",
    "Reusability: Functions allow you to write code that can be used repeatedly throughout a program or even in multiple programs. Once you have defined a function, you can call it from anywhere in your code without having to rewrite the same code.\n",
    "\n",
    "Modularity: Functions break up your code into smaller, more manageable pieces, which makes it easier to read, understand, and maintain. You can organize your code into logical units that perform specific tasks, making it easier to identify and fix errors.\n",
    "\n",
    "Abstraction: Functions abstract away the details of their implementation, allowing you to use them without needing to know how they work internally. This makes it easier to reason about your code at a higher level of abstraction.\n",
    "\n",
    "Scoping: Functions can help manage variable scope and prevent naming conflicts. Variables defined inside a function are only accessible within the function, so you can reuse variable names without worrying about them interfering with each other.\n",
    "\n",
    "Code clarity: By defining functions for specific tasks, you can give meaningful names to parts of your code, making it easier to read and understand. Functions also make code more modular and easier to organize.\n",
    "\n",
    "\n"
   ]
  },
  {
   "cell_type": "markdown",
   "id": "2ffacfad",
   "metadata": {},
   "source": [
    "##### 2. When does the code in a function run: when it's specified or when it's called?\n",
    "\n",
    "The code in a function is not executed when the function is defined, but rather when the function is called. \n",
    "\n",
    "When a function is defined, it creates an object in memory that contains the code to be executed when the function is called. The function's code is only executed when the function is called explicitly, either by name or as part of a larger program.\n",
    "\n",
    "For example, consider the following code:\n",
    "\n"
   ]
  },
  {
   "cell_type": "code",
   "execution_count": 4,
   "id": "69ae4b70",
   "metadata": {},
   "outputs": [
    {
     "name": "stdout",
     "output_type": "stream",
     "text": [
      "Before function call\n",
      "Hello, world!\n",
      "After function call\n"
     ]
    }
   ],
   "source": [
    "\n",
    "def my_function():\n",
    "    print(\"Hello, world!\")\n",
    "\n",
    "print(\"Before function call\")\n",
    "my_function()\n",
    "print(\"After function call\")\n",
    "\n",
    "\n",
    "### In this example, the code inside the `my_function()` function is not executed until it is called explicitly with the `my_function()` statement. The output of this program would be:\n",
    " \n",
    "\n"
   ]
  },
  {
   "cell_type": "markdown",
   "id": "5e0bc001",
   "metadata": {},
   "source": [
    " As we can see, the code inside the function was not executed until it was called with the `my_function()` statement."
   ]
  },
  {
   "cell_type": "markdown",
   "id": "20367394",
   "metadata": {},
   "source": [
    "\n",
    "##### 3. What statement creates a function?\n",
    "\n",
    "The def statement is used to create a function in Python.\n",
    "\n",
    "The general syntax for defining a function is:\n",
    "\n"
   ]
  },
  {
   "cell_type": "code",
   "execution_count": 6,
   "id": "37195403",
   "metadata": {},
   "outputs": [],
   "source": [
    " \n",
    "def function_name(arguments):\n",
    "    \"\"\"docstring\"\"\"\n",
    "    # function body\n",
    "    return value"
   ]
  },
  {
   "cell_type": "markdown",
   "id": "6ed3223c",
   "metadata": {},
   "source": [
    "\n",
    "Here, function_name is the name you give to your function, and arguments is a comma-separated list of arguments that the function takes as input (optional). The docstring is a string that describes the purpose of the function (optional), and the return statement specifies the value that the function should return (also optional)."
   ]
  },
  {
   "cell_type": "markdown",
   "id": "09521be5",
   "metadata": {},
   "source": [
    "\n",
    "### 4. What is the difference between a function and a function call?\n",
    "A function is a block of code that performs a specific task and returns a value (if required). It is defined using the def keyword, followed by the function name, and any parameters (inputs) that it may take. Once defined, the function can be called (executed) from any part of the program where it is needed.\n",
    "\n",
    "On the other hand, a function call is the act of requesting the execution of a function. It involves specifying the function name and providing any required input parameters (arguments) inside the parentheses after the function name. When a function is called, the code inside the function is executed, and any specified output is returned (if any).\n",
    "\n",
    "Here is an example to illustrate the difference between a function and a function call:"
   ]
  },
  {
   "cell_type": "code",
   "execution_count": 7,
   "id": "e67f56a8",
   "metadata": {},
   "outputs": [
    {
     "name": "stdout",
     "output_type": "stream",
     "text": [
      "35\n"
     ]
    }
   ],
   "source": [
    "# Function definition\n",
    "def multiply_numbers(a, b):\n",
    "    \"\"\"This function multiplies two numbers and returns the result\"\"\"\n",
    "    result = a * b\n",
    "    return result\n",
    "\n",
    "# Function call\n",
    "product = multiply_numbers(5, 7)\n",
    "print(product)\n"
   ]
  },
  {
   "cell_type": "markdown",
   "id": "8e6fc012",
   "metadata": {},
   "source": [
    "In this example, multiply_numbers() is a function that takes two arguments and returns their product. The function is defined using the def keyword.\n",
    "\n",
    "Later on, the function is called with arguments 5 and 7. This is the function call. The result of the function call is returned and stored in the variable product. Finally, the value of product is printed to the console using the print() function."
   ]
  },
  {
   "cell_type": "markdown",
   "id": "1c6275b1",
   "metadata": {},
   "source": [
    "\n",
    "##### 5. How many global scopes are there in a Python program? How many local scopes?\n",
    "\n",
    "There is only one global scope in a Python program. It is created when the program starts and is destroyed when the program exits.\n",
    "\n",
    "The number of local scopes in a Python program depends on the number of function calls being made. Each time a function is called, a new local scope is created. When the function returns, the local scope is destroyed. Therefore, the number of local scopes can vary throughout the execution of a program."
   ]
  },
  {
   "cell_type": "markdown",
   "id": "bb68e420",
   "metadata": {},
   "source": [
    "\n",
    "##### 6. What happens to variables in a local scope when the function call returns?\n",
    "\n",
    "When a function call returns, the local scope is destroyed and all the variables in that scope are lost. The values of any variables that were created or modified in the local scope only exist within the scope of the function and cannot be accessed outside of it.\n",
    "\n",
    "If a function returns a value, it can be stored in a variable in the calling scope or used in an expression. However, any variables defined within the local scope of the function cannot be accessed or modified outside of that function."
   ]
  },
  {
   "cell_type": "markdown",
   "id": "51cad552",
   "metadata": {},
   "source": [
    "\n",
    "#### 7. What is the concept of a return value? Is it possible to have a return value in an expression?\n",
    "\n",
    "The concept of a return value is that a function can compute a result or perform some action, and then return a value to the caller. This allows the result of the function to be used in the calling code or as part of an expression.\n",
    "\n",
    "When a function returns a value, it is essentially passing that value back to the point in the code where the function was called. This allows the result of the function to be used in subsequent calculations or operations.\n",
    "\n",
    "Yes, it is possible to have a return value in an expression. When a function call is used in an expression, the function is called and its return value is substituted in place of the function call. For example, consider the following expression:"
   ]
  },
  {
   "cell_type": "code",
   "execution_count": 10,
   "id": "d75a99c0",
   "metadata": {},
   "outputs": [
    {
     "name": "stdout",
     "output_type": "stream",
     "text": [
      "10\n"
     ]
    }
   ],
   "source": [
    "result = multiply_numbers(2, 3) + 4\n",
    "print(result)"
   ]
  },
  {
   "cell_type": "markdown",
   "id": "b72b9f5b",
   "metadata": {},
   "source": [
    "In this example, the multiply_numbers function is called with arguments 2 and 3, which returns 6. The result of the function call is then added to 4, and the final value (10) is assigned to the variable result."
   ]
  },
  {
   "cell_type": "markdown",
   "id": "4c270448",
   "metadata": {},
   "source": [
    "\n",
    "#### 8. If a function does not have a return statement, what is the return value of a call to that function?\n",
    "\n",
    "If a function does not have a return statement, the return value of a call to that function is None.\n"
   ]
  },
  {
   "cell_type": "markdown",
   "id": "2ef7a7be",
   "metadata": {},
   "source": [
    "\n",
    "#### 9. How do you make a function variable refer to the global variable?\n",
    "\n",
    "To make a function variable refer to the global variable, you can use the global statement followed by the variable name inside the function. This will tell Python that the variable is a global variable and not a local variable inside the function.\n",
    "\n",
    "Here is an example:"
   ]
  },
  {
   "cell_type": "code",
   "execution_count": 11,
   "id": "d62a115b",
   "metadata": {},
   "outputs": [
    {
     "name": "stdout",
     "output_type": "stream",
     "text": [
      "5\n"
     ]
    }
   ],
   "source": [
    "x = 10  # global variable\n",
    "\n",
    "def my_function():\n",
    "    global x  # use the global statement to make x refer to the global variable\n",
    "    x = 5    # assign a new value to the global variable\n",
    "\n",
    "my_function()  # call the function\n",
    "print(x)       # output: 5 (the value of the global variable has been changed inside the function)\n"
   ]
  },
  {
   "cell_type": "markdown",
   "id": "ca12182b",
   "metadata": {},
   "source": [
    "\n",
    "#### 10. What is the data type of None?\n",
    "\n",
    "The data type of None is NoneType."
   ]
  },
  {
   "cell_type": "markdown",
   "id": "a8de9db2",
   "metadata": {},
   "source": [
    "\n",
    "#### 11. What does the sentence import areallyourpetsnamederic do?\n",
    "\n",
    "The sentence import areallyourpetsnamederic attempts to import a Python module called areallyourpetsnamederic. If such a module exists and can be found in the Python module search path, it will be imported and its contents will be made available for use in the current program. However, since it is highly unlikely that such a module actually exists, this sentence is typically used as a joke or a humorous reference."
   ]
  },
  {
   "cell_type": "markdown",
   "id": "a896cf9a",
   "metadata": {},
   "source": [
    "\n",
    "#### 12. If you had a bacon() feature in a spam module, what would you call it after importing spam?\n",
    "\n",
    "You would call it as spam.bacon() after importing the spam module."
   ]
  },
  {
   "cell_type": "markdown",
   "id": "2f965c6d",
   "metadata": {},
   "source": [
    "\n",
    "### 13. What can you do to save a programme from crashing if it encounters an error?\n",
    "\n",
    "To save a program from crashing if it encounters an error, you can use exception handling. Exception handling allows you to catch and handle errors that occur during program execution. You can use a try-except block to catch exceptions and handle them gracefully without causing the program to crash. By catching exceptions, you can display a helpful error message or take other appropriate action to recover from the error."
   ]
  },
  {
   "cell_type": "markdown",
   "id": "6f275408",
   "metadata": {},
   "source": [
    "\n",
    "#### 14. What is the purpose of the try clause? What is the purpose of the except clause?\n",
    "\n",
    "The purpose of the try clause is to enclose the code that might raise an exception during its execution. If an exception occurs, the try clause will immediately terminate, and the control flow will jump to the except clause. The purpose of the except clause is to handle the exception raised by the try clause. It allows the programmer to define a block of code that will execute if and only if the try clause raises an exception. This way, the program can continue running even if it encounters an error."
   ]
  },
  {
   "cell_type": "code",
   "execution_count": null,
   "id": "2eec9528",
   "metadata": {},
   "outputs": [],
   "source": []
  }
 ],
 "metadata": {
  "kernelspec": {
   "display_name": "Python 3 (ipykernel)",
   "language": "python",
   "name": "python3"
  },
  "language_info": {
   "codemirror_mode": {
    "name": "ipython",
    "version": 3
   },
   "file_extension": ".py",
   "mimetype": "text/x-python",
   "name": "python",
   "nbconvert_exporter": "python",
   "pygments_lexer": "ipython3",
   "version": "3.10.9"
  }
 },
 "nbformat": 4,
 "nbformat_minor": 5
}
