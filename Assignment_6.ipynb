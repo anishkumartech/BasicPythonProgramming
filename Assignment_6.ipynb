{
  "nbformat": 4,
  "nbformat_minor": 0,
  "metadata": {
    "colab": {
      "provenance": []
    },
    "kernelspec": {
      "name": "python3",
      "display_name": "Python 3"
    },
    "language_info": {
      "name": "python"
    }
  },
  "cells": [
    {
      "cell_type": "markdown",
      "source": [
        "### 1. What are escape characters, and how do you use them?\n",
        "    \n",
        "\n",
        "Escape characters are characters used in programming languages and other contexts to signal that the following character or characters should be interpreted in a special way. They are typically used to represent characters that cannot be typed directly, such as special characters or control codes.\n",
        "\n",
        "In programming, escape characters are commonly used to represent characters that have special meanings within strings, such as quotation marks or newline characters. For example, if you want to include a quotation mark within a string literal delimited by quotation marks, you can use an escape character to signal that the following quotation mark should be treated as a literal character rather than as a string delimiter. In many programming languages, the escape character is a backslash (\\).\n",
        "\n",
        "Here are some examples of how escape characters can be used in programming:\n",
        "\n",
        "- To include a double quotation mark within a string literal delimited by double quotation marks in Python:\n",
        "```\n",
        "print(\"He said, \\\"Hello world!\\\"\")\n",
        "```\n",
        "Output: He said, \"Hello world!\"\n",
        "\n",
        "\n",
        "\n"
      ],
      "metadata": {
        "id": "eJN8_DIgHIC-"
      }
    },
    {
      "cell_type": "markdown",
      "source": [],
      "metadata": {
        "id": "oEEASk7WJkNO"
      }
    },
    {
      "cell_type": "markdown",
      "source": [
        "###2. What do the escape characters n and t stand for?\n",
        "\n",
        "In Python, the escape character `\\n` represents a newline character, which is used to indicate the end of a line of text and move the cursor to the beginning of the next line. The escape character `\\t` represents a tab character, which is used to create horizontal space between text elements.\n"
      ],
      "metadata": {
        "id": "afC0IdM1JqtG"
      }
    },
    {
      "cell_type": "markdown",
      "source": [
        "###3. What is the way to include backslash characters in a string?\n",
        "In Python, you can include a backslash character \\ in a string by using a double backslash \\\\. This is because the backslash character is itself an escape character, used to signal that the next character should be treated specially"
      ],
      "metadata": {
        "id": "jLhV2mwtKVA9"
      }
    },
    {
      "cell_type": "markdown",
      "source": [
        "### 4. The string \"Howl's Moving Castle\" is a correct value. Why isn't the single quote character in the word Howl's not escaped a problem?\n",
        "In many programming languages, including Python, a string can be delimited by either single quotes `' '` or double quotes `\" \"`. If you want to include a single quote character within a string that is delimited by single quotes, you can do so without escaping the single quote character, as long as the string is not otherwise terminated by the single quote character. \n",
        "\n"
      ],
      "metadata": {
        "id": "V0ioeSzLNW0U"
      }
    },
    {
      "cell_type": "markdown",
      "source": [
        "### 5. How do you write a string of newlines if you don't want to use the n character?\n",
        "If you don't want to use the \\n escape character to represent a newline within a string, you can use triple quotes ''' ''' or \"\"\" \"\"\" to create a multi-line string. In a multi-line string, you can include newline characters by pressing the Enter key at the end of a line.\n",
        "\n",
        "Here's an example of how to create a multi-line string with newline characters in Python:"
      ],
      "metadata": {
        "id": "IxFRGtSeODYw"
      }
    },
    {
      "cell_type": "code",
      "source": [
        "my_string = '''This is a multi-line string\n",
        "that includes several lines of text.\n",
        "Each line is separated by a newline character.'''\n",
        "print(my_string)\n"
      ],
      "metadata": {
        "id": "n_DNyriqPB8Z"
      },
      "execution_count": null,
      "outputs": []
    },
    {
      "cell_type": "code",
      "source": [
        "This is a multi-line string\n",
        "that includes several lines of text.\n",
        "Each line is separated by a newline character.\n"
      ],
      "metadata": {
        "id": "WIMotAaAPJwv"
      },
      "execution_count": null,
      "outputs": []
    },
    {
      "cell_type": "markdown",
      "source": [
        "n this example, the multi-line string is delimited by triple single quotes, and each line of text is separated by a newline character. When the string is printed, the output includes the newline characters as separate lines of text.\n",
        "\n",
        "Note that using a multi-line string may not always be practical, especially if you need to include a large number of newline characters or if you need to generate the string dynamically. In such cases, using the \\n escape character may be a better option"
      ],
      "metadata": {
        "id": "hJFf6iOUPL0R"
      }
    },
    {
      "cell_type": "markdown",
      "source": [
        "###6. What are the values of the given expressions?\n",
        " 'Hello , world! ' [ 1] \n",
        " 'Hello , world! ' [ 0.5]\n",
        " 'Hello , world! ' [ :5] \n",
        " 'Hello , world! ' [ 3:]\n",
        " \n",
        "'Hello , world! '[1] returns the character at index position 1 in the string, which is the letter 'e'.\n",
        "'Hello , world! '[0.5] raises a TypeError since the index must be an integer, not a float.\n",
        "'Hello , world! '[:5] returns a substring that includes all characters from the beginning of the string up to, but not including, the character at index position 5. In this case, the substring is 'Hello'.\n",
        "'Hello , world! '[3:] returns a substring that includes all characters from index position 3 to the end of the string. In this case, the substring is 'lo , world! '. Note that string indexing starts at 0, so index position 3 corresponds to the fourth character in the string."
      ],
      "metadata": {
        "id": "O7ZlI8EbPUdG"
      }
    },
    {
      "cell_type": "markdown",
      "source": [
        "###7. What are the values of the following expressions?\n",
        "'Hello'.upper()\n",
        "'Hello'.upper().isupper()\n",
        "'Hello'.upper().lower()\n",
        "\n",
        "'Hello'.upper() returns the string 'HELLO'.\n",
        "'Hello'.upper().isupper() returns the Boolean value True. This is because the isupper() method checks whether all characters in the string are uppercase, and the 'HELLO' string returned by the previous method call contains only uppercase characters.\n",
        "'Hello'.upper().lower() returns the string 'hello'. This is because the lower() method converts all characters in the string to lowercase, and the 'HELLO' string returned by the previous method call contains only uppercase characters.\n",
        "Here's an example of how to evaluate these expressions in Python:"
      ],
      "metadata": {
        "id": "kRDG12Z4RuWD"
      }
    },
    {
      "cell_type": "code",
      "source": [
        "# Example 1\n",
        "my_string = 'Hello'\n",
        "print(my_string.upper())   # Output: 'HELLO'\n",
        "\n",
        "# Example 2\n",
        "my_string = 'Hello'\n",
        "print(my_string.upper().isupper())   # Output: True\n",
        "\n",
        "# Example 3\n",
        "my_string = 'Hello'\n",
        "print(my_string.upper().lower())   # Output: 'hello'\n"
      ],
      "metadata": {
        "id": "uw9aN0buSyEs"
      },
      "execution_count": null,
      "outputs": []
    },
    {
      "cell_type": "markdown",
      "source": [
        "In the first example, the upper() method is called on the string 'Hello' to convert all characters to uppercase. In the second example, the isupper() method is called on the result of the previous method call to check whether all characters in the string are uppercase. In the third example, the lower() method is called on the result of the previous method call to convert all characters to lowercase"
      ],
      "metadata": {
        "id": "tvA9Um35S5lO"
      }
    },
    {
      "cell_type": "markdown",
      "source": [
        "### 8. What are the values of the following expressions?\n",
        "'Remember, remember, the fifth of July'..split()\n",
        "'.join('There can only one.'.split())\n",
        "\n",
        "'Remember, remember, the fifth of July'.split() returns a list of words in the string, where each word is separated by whitespace characters. The resulting list is ['Remember,', 'remember,', 'the', 'fifth', 'of', 'July'].\n",
        "'.join('There can only one.'.split()) splits the string 'There can only one.' into words using whitespace as a delimiter, then joins the resulting words back into a string using the dot character '.' as a separator. The resulting string is 'There.can.only.one.'.\n",
        "Here's an example of how to evaluate these expressions in Python"
      ],
      "metadata": {
        "id": "5OjqATNMU3pn"
      }
    },
    {
      "cell_type": "code",
      "source": [
        "# Example 1\n",
        "my_string = 'Remember, remember, the fifth of July'\n",
        "print(my_string.split())   # Output: ['Remember,', 'remember,', 'the', 'fifth', 'of', 'July']\n",
        "\n",
        "# Example 2\n",
        "my_string = 'There can only one.'\n",
        "print('.'.join(my_string.split()))   # Output: 'There.can.only.one.'\n"
      ],
      "metadata": {
        "id": "VIG0mQlEVJIp"
      },
      "execution_count": null,
      "outputs": []
    },
    {
      "cell_type": "markdown",
      "source": [
        "In the first example, the split() method is called on the string 'Remember, remember, the fifth of July' to split it into a list of words using whitespace as a delimiter. In the second example, the string 'There can only one.' is split into a list of words using whitespace as a delimiter, and then the resulting list of words is joined back into a string using the dot character '.' as a separator."
      ],
      "metadata": {
        "id": "SSDMXsoVVS3o"
      }
    },
    {
      "cell_type": "markdown",
      "source": [],
      "metadata": {
        "id": "ul4X2X4rS-ic"
      }
    },
    {
      "cell_type": "markdown",
      "source": [
        "###9. What are the methods for right-justifying, left-justifying, and centering a string?\n",
        "\n",
        "In Python, the str class provides several methods for justifying and centering strings:\n",
        "\n",
        "ljust(width, fillchar=None): This method left-justifies the string within the specified width by adding fill characters (default is whitespace) to the right side of the string. It returns a new string with the specified width.\n",
        "\n",
        "rjust(width, fillchar=None): This method right-justifies the string within the specified width by adding fill characters (default is whitespace) to the left side of the string. It returns a new string with the specified width.\n",
        "\n",
        "center(width, fillchar=None): This method centers the string within the specified width by adding fill characters (default is whitespace) on both sides of the string. It returns a new string with the specified width."
      ],
      "metadata": {
        "id": "UMSX1DjxVYtE"
      }
    },
    {
      "cell_type": "markdown",
      "source": [
        "### 10.What is the best way to remove whitespace characters from the start or end?\n",
        "\n",
        "In Python, there are several ways to remove whitespace characters from the start or end of a string. Here are a few common methods:\n",
        "\n",
        "1. `strip()`: This method removes whitespace characters from the start and end of a string. If you want to remove only leading or trailing whitespace, you can use `lstrip()` or `rstrip()` methods respectively.\n",
        "\n",
        "2. `lstrip()`: This method removes whitespace characters from the start (left side) of a string.\n",
        "\n",
        "3. `rstrip()`: This method removes whitespace characters from the end (right side) of a string.\n",
        "\n",
        "\n",
        "```\n",
        "\n",
        "In this example, the `strip()` method is used to remove whitespace characters from the start and end of the `my_string` variable. The resulting string is assigned to the `new_string` variable. The `lstrip()` and `rstrip()` methods are also used to remove leading and trailing whitespace characters respectively."
      ],
      "metadata": {
        "id": "-3OzZavMV1aD"
      }
    },
    {
      "cell_type": "code",
      "source": [
        "#example that demonstrates how to use these methods:\n",
        "my_string = '    Hello, world!     '\n",
        "\n",
        "# Remove whitespace from start and end of string\n",
        "new_string = my_string.strip()\n",
        "\n",
        "# Remove leading whitespace from string\n",
        "new_string2 = my_string.lstrip()\n",
        "\n",
        "# Remove trailing whitespace from string\n",
        "new_string3 = my_string.rstrip()\n",
        "\n",
        "print(new_string)   # Output: 'Hello, world!'\n",
        "print(new_string2)  # Output: 'Hello, world!     '\n",
        "print(new_string3)  # Output: '    Hello, world!'"
      ],
      "metadata": {
        "colab": {
          "base_uri": "https://localhost:8080/"
        },
        "id": "of5sKNKoWUQk",
        "outputId": "8723631e-0605-45ed-d86b-23a3c9ec5d1c"
      },
      "execution_count": null,
      "outputs": [
        {
          "output_type": "stream",
          "name": "stdout",
          "text": [
            "Hello, world!\n",
            "Hello, world!     \n",
            "    Hello, world!\n"
          ]
        }
      ]
    }
  ]
}